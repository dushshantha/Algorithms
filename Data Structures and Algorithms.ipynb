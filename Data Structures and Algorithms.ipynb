{
 "cells": [
  {
   "cell_type": "markdown",
   "metadata": {},
   "source": [
    "### Arrays and Strings"
   ]
  },
  {
   "cell_type": "markdown",
   "metadata": {},
   "source": [
    "Implement an algorithm to determine if a string has all unique chars"
   ]
  },
  {
   "cell_type": "code",
   "execution_count": 1,
   "metadata": {
    "collapsed": false
   },
   "outputs": [
    {
     "data": {
      "text/plain": [
       "True"
      ]
     },
     "execution_count": 1,
     "metadata": {},
     "output_type": "execute_result"
    }
   ],
   "source": [
    "#Unicode or Ascii\n",
    "def isUnique(s):\n",
    "    #Assuming this is ascii\n",
    "    if len(s)> 255:\n",
    "        return False\n",
    "    \n",
    "    charMap = {}\n",
    "    for i in range(len(s)):\n",
    "        if not s[i] in charMap:\n",
    "            charMap[s[i]] = 1\n",
    "        else:\n",
    "            return False\n",
    "    return True   \n",
    "\n",
    "isUnique('ab*657#')"
   ]
  },
  {
   "cell_type": "markdown",
   "metadata": {},
   "source": [
    "Given 2 strings write a function to see if one if permutation of the other"
   ]
  },
  {
   "cell_type": "code",
   "execution_count": 15,
   "metadata": {
    "collapsed": false
   },
   "outputs": [
    {
     "data": {
      "text/plain": [
       "False"
      ]
     },
     "execution_count": 15,
     "metadata": {},
     "output_type": "execute_result"
    }
   ],
   "source": [
    "# \"abc\",\"acb\" -> True\n",
    "# \"abc\",\"acd\" -> False\n",
    "# \"abcd\", \"abc\" -> False\n",
    "\n",
    "# both should be equal in soze\n",
    "# number of times each charapears equal in both\n",
    "# if we sort, we get identical strings\n",
    "\n",
    "def isPermutation1(s1,s2):\n",
    "    if len(s1)!= len(s2):\n",
    "        return False\n",
    "    \n",
    "    if(''.join(sorted(s1)) == ''.join(sorted(s2))):\n",
    "        return True\n",
    "    return False\n",
    "\n",
    "#isPermutation1(\"abcd\", \"abc\")\n",
    "\n",
    "def isPermutation2(s1,s2):\n",
    "    if len(s1)!= len(s2):\n",
    "        return False\n",
    "    charMap = {}\n",
    "    for i in range(len(s1)):\n",
    "        if not s1[i] in charMap:\n",
    "            charMap[s1[i]] = 1\n",
    "        else: \n",
    "            charMap[s1[i]] = charMap[s1[i]] + 1\n",
    "            \n",
    "    for j in range(len(s2)):\n",
    "        if not s2[i] in charMap:\n",
    "            return False\n",
    "        else:\n",
    "            charMap[s2[i]] = charMap[s2[i]] - 1\n",
    "        \n",
    "        if charMap[s2[i]] < 0:\n",
    "            return False\n",
    "        return True\n",
    "\n",
    "isPermutation2(\"abcd\", \"abc\")"
   ]
  },
  {
   "cell_type": "markdown",
   "metadata": {},
   "source": [
    "Rotate a matrix 90 degrees"
   ]
  },
  {
   "cell_type": "code",
   "execution_count": 3,
   "metadata": {
    "collapsed": false
   },
   "outputs": [
    {
     "data": {
      "text/plain": [
       "[[5, 4, 4, 1], [3, 6, 2, 4], [4, 8, 3, 3], [7, 3, 5, 7]]"
      ]
     },
     "execution_count": 3,
     "metadata": {},
     "output_type": "execute_result"
    }
   ],
   "source": [
    "# Is it square? then we can do in place\n",
    "# if not, need additional space\n",
    "\n",
    "def rotate(mtx):\n",
    "    layers = len(mtx)\n",
    "    columns = len(mtx[0])\n",
    "    # transform layer by layer\n",
    "    for i in range(0, int(layers/2)):\n",
    "        for j in range(i, columns - 1 - i):\n",
    "            temp = mtx[i][j]\n",
    "            mtx[i][j] = mtx[layers -1 - j][i]\n",
    "            mtx[layers -1 - j][i] = mtx[layers - 1 - i][columns -1 - j]\n",
    "            mtx[layers -1 - i][columns - 1 - j] = mtx[j][columns - 1 - i]\n",
    "            mtx[j][columns - 1 - i] = temp\n",
    "            \n",
    "    return mtx\n",
    "\n",
    "m = [[1,4,3,7],\n",
    "     [4,2,3,5],\n",
    "     [4,6,8,3],\n",
    "     [5,3,4,7]]\n",
    "\n",
    "rotate(m)\n"
   ]
  },
  {
   "cell_type": "markdown",
   "metadata": {},
   "source": [
    "Write an algorithm such that if an element in an NxM matrix is 0, its entire row and column will be set to 0 "
   ]
  },
  {
   "cell_type": "code",
   "execution_count": 4,
   "metadata": {
    "collapsed": false
   },
   "outputs": [
    {
     "data": {
      "text/plain": [
       "[[0, 0, 0, 7], [0, 0, 0, 0], [0, 0, 0, 3], [0, 0, 0, 0]]"
      ]
     },
     "execution_count": 4,
     "metadata": {},
     "output_type": "execute_result"
    }
   ],
   "source": [
    "# 2 passes\n",
    "# first pass to mark down rows and columns to be 0'd out\n",
    "# 2nd pass to set all the elements to 0\n",
    "# 2 passes needed to avoid entire matrix being 0'd out\n",
    "# O(NxM)\n",
    "\n",
    "def zero(mtx):\n",
    "    n = len(mtx)\n",
    "    m = len(mtx[0])\n",
    "     \n",
    "    row = []\n",
    "    col = []\n",
    "    # first pass\n",
    "    \n",
    "    for i in range(n): \n",
    "        for j in range(m):\n",
    "            if mtx[i][j] == 0:\n",
    "                if not i in row:\n",
    "                    row.append(i)\n",
    "                if not j in col:\n",
    "                    col.append(j)\n",
    "    \n",
    "    for item in row:\n",
    "        for i in range(m):\n",
    "            mtx[item][i] = 0\n",
    "\n",
    "    for item in col:\n",
    "        for i in range(n):\n",
    "            mtx[i][item] = 0\n",
    "    \n",
    "    return mtx\n",
    "\n",
    "m = [[1,4,3,7],\n",
    "     [4,0,0,5],\n",
    "     [4,6,8,3],\n",
    "     [0,3,4,7]]\n",
    "\n",
    "zero(m)\n",
    "    "
   ]
  },
  {
   "cell_type": "markdown",
   "metadata": {},
   "source": [
    "In a given string, find the lonest consecutive char and its number of occurences"
   ]
  },
  {
   "cell_type": "code",
   "execution_count": 5,
   "metadata": {
    "collapsed": false
   },
   "outputs": [
    {
     "data": {
      "text/plain": [
       "{'b': 3}"
      ]
     },
     "execution_count": 5,
     "metadata": {},
     "output_type": "execute_result"
    }
   ],
   "source": [
    "# 'abcbbbd' -> b,3\n",
    "# 'abcde' -> ?? \n",
    "# Pass through the string once and count the most occurence\n",
    "# 0(n)\n",
    "\n",
    "def countMaxOccurence(s):\n",
    "    count = 1\n",
    "    curr = s[0]\n",
    "    maxChar = s[0]\n",
    "    maxCount = count\n",
    "    for i in range(1, len(s)):\n",
    "        prev = curr\n",
    "        curr = s[i]\n",
    "        if curr == prev:\n",
    "            count = count + 1\n",
    "        else:\n",
    "            if maxCount < count:\n",
    "                maxCount = count\n",
    "                maxChar = prev\n",
    "            count = 1\n",
    "    \n",
    "    return {maxChar : maxCount}\n",
    "\n",
    "\n",
    "countMaxOccurence('abcbbbd')"
   ]
  },
  {
   "cell_type": "markdown",
   "metadata": {},
   "source": [
    "### Linked Lists"
   ]
  },
  {
   "cell_type": "markdown",
   "metadata": {},
   "source": [
    "Define a linked List"
   ]
  },
  {
   "cell_type": "code",
   "execution_count": 6,
   "metadata": {
    "collapsed": true
   },
   "outputs": [],
   "source": [
    "class Node(object):\n",
    "    \n",
    "    # Constructor\n",
    "    def __init__(self, data):\n",
    "        self.data = data\n",
    "        self.next = None\n",
    "    \n",
    "    # Get Data\n",
    "    def get_data(self):\n",
    "        return self.data\n",
    "\n",
    "    # Get next node\n",
    "    def get_next(self):\n",
    "        return self.next\n",
    "    \n",
    "    # Add a node\n",
    "    def add(self, new_node):\n",
    "        tail = self\n",
    "        while self.next != None:\n",
    "            tail = self.next\n",
    "        tail.next = new_node\n",
    "\n",
    "class LinkedList(object):\n",
    "    \n",
    "    def __init__(self, head=None):\n",
    "        self.head = head\n",
    "    \n",
    "    def insert(self, new_node):\n",
    "        self.head.add(new_node)\n",
    "\n",
    "    def print_list(self):\n",
    "        curr = self.head\n",
    "        print(curr.data)\n",
    "        \n",
    "        while curr.next != None:\n",
    "            curr = curr.next\n",
    "            print(curr.data)\n",
    "        \n",
    "    "
   ]
  },
  {
   "cell_type": "code",
   "execution_count": 7,
   "metadata": {
    "collapsed": true
   },
   "outputs": [],
   "source": [
    "l = LinkedList(Node(4))"
   ]
  },
  {
   "cell_type": "code",
   "execution_count": 8,
   "metadata": {
    "collapsed": false
   },
   "outputs": [
    {
     "name": "stdout",
     "output_type": "stream",
     "text": [
      "4\n"
     ]
    }
   ],
   "source": [
    "l.print_list()"
   ]
  },
  {
   "cell_type": "code",
   "execution_count": 9,
   "metadata": {
    "collapsed": true
   },
   "outputs": [],
   "source": [
    "l.insert(Node(5))"
   ]
  },
  {
   "cell_type": "code",
   "execution_count": 10,
   "metadata": {
    "collapsed": false
   },
   "outputs": [
    {
     "name": "stdout",
     "output_type": "stream",
     "text": [
      "4\n",
      "5\n"
     ]
    }
   ],
   "source": [
    "l.print_list()"
   ]
  },
  {
   "cell_type": "markdown",
   "metadata": {
    "collapsed": true
   },
   "source": [
    "### Trees"
   ]
  },
  {
   "cell_type": "code",
   "execution_count": 11,
   "metadata": {
    "collapsed": true
   },
   "outputs": [],
   "source": [
    "class TreeNode(object):\n",
    "    \n",
    "    # Constructor\n",
    "    def __init__(self, data):\n",
    "        self.data = data\n",
    "        self.left = None\n",
    "        self.right = None"
   ]
  },
  {
   "cell_type": "code",
   "execution_count": 13,
   "metadata": {
    "collapsed": false
   },
   "outputs": [],
   "source": [
    "def preOrder(root):\n",
    "    #Write your code here\n",
    "    if root != None:\n",
    "        print(root.data,)\n",
    "        preOrder(root.left)\n",
    "        preOrder(root.right)\n",
    "    return\n",
    "\n"
   ]
  },
  {
   "cell_type": "code",
   "execution_count": 14,
   "metadata": {
    "collapsed": true
   },
   "outputs": [],
   "source": [
    "def postOrder(root):\n",
    "    #Write your code here\n",
    "    if root == None:\n",
    "        return\n",
    "    postOrder(root.left)\n",
    "    postOrder(root.right)\n",
    "    print(root.data,)"
   ]
  },
  {
   "cell_type": "markdown",
   "metadata": {},
   "source": [
    "### Graphs"
   ]
  },
  {
   "cell_type": "markdown",
   "metadata": {},
   "source": [
    "Depth first search"
   ]
  },
  {
   "cell_type": "markdown",
   "metadata": {},
   "source": [
    "#### Dynamic Programming"
   ]
  },
  {
   "cell_type": "code",
   "execution_count": 19,
   "metadata": {
    "collapsed": false
   },
   "outputs": [
    {
     "name": "stdout",
     "output_type": "stream",
     "text": [
      "{'g', 'o'}\n"
     ]
    },
    {
     "data": {
      "text/plain": [
       "3"
      ]
     },
     "execution_count": 19,
     "metadata": {},
     "output_type": "execute_result"
    }
   ],
   "source": [
    "def deletion_distance(str1, str2):\n",
    "  if str1 == str2:\n",
    "    return 0\n",
    "  s = set(str1)\n",
    "  r = set(str2)\n",
    "  intersect = s & r\n",
    "  print(intersect)\n",
    "  \n",
    "  ret = (len(str1) + len(str2) - ( 2 * len(intersect)))\n",
    "  return ret \n",
    "\n",
    "deletion_distance('dog', 'frog')"
   ]
  },
  {
   "cell_type": "code",
   "execution_count": 38,
   "metadata": {
    "collapsed": false
   },
   "outputs": [
    {
     "name": "stdout",
     "output_type": "stream",
     "text": [
      "found\n",
      "delete  f\n",
      "delete  f\n",
      "delete  f\n",
      "found\n",
      "delete  o\n"
     ]
    },
    {
     "ename": "IndexError",
     "evalue": "string index out of range",
     "output_type": "error",
     "traceback": [
      "\u001b[0;31m---------------------------------------------------------------------------\u001b[0m",
      "\u001b[0;31mIndexError\u001b[0m                                Traceback (most recent call last)",
      "\u001b[0;32m<ipython-input-38-576adef1e235>\u001b[0m in \u001b[0;36m<module>\u001b[0;34m()\u001b[0m\n\u001b[1;32m     17\u001b[0m     \u001b[0;32mreturn\u001b[0m \u001b[0mcount\u001b[0m\u001b[0;34m\u001b[0m\u001b[0m\n\u001b[1;32m     18\u001b[0m \u001b[0;34m\u001b[0m\u001b[0m\n\u001b[0;32m---> 19\u001b[0;31m \u001b[0mdeletion_distance\u001b[0m\u001b[0;34m(\u001b[0m\u001b[0;34m'dogf'\u001b[0m\u001b[0;34m,\u001b[0m \u001b[0;34m'frog'\u001b[0m\u001b[0;34m)\u001b[0m\u001b[0;34m\u001b[0m\u001b[0m\n\u001b[0m",
      "\u001b[0;32m<ipython-input-38-576adef1e235>\u001b[0m in \u001b[0;36mdeletion_distance\u001b[0;34m(str1, str2)\u001b[0m\n\u001b[1;32m     10\u001b[0m                 \u001b[0mprint\u001b[0m\u001b[0;34m(\u001b[0m\u001b[0mstr1\u001b[0m\u001b[0;34m)\u001b[0m\u001b[0;34m\u001b[0m\u001b[0m\n\u001b[1;32m     11\u001b[0m             \u001b[0;32melse\u001b[0m\u001b[0;34m:\u001b[0m\u001b[0;34m\u001b[0m\u001b[0m\n\u001b[0;32m---> 12\u001b[0;31m                 \u001b[0;32mwhile\u001b[0m \u001b[0mstr1\u001b[0m\u001b[0;34m[\u001b[0m\u001b[0mi\u001b[0m\u001b[0;34m]\u001b[0m \u001b[0;34m!=\u001b[0m \u001b[0mstr2\u001b[0m\u001b[0;34m[\u001b[0m\u001b[0mj\u001b[0m\u001b[0;34m]\u001b[0m\u001b[0;34m:\u001b[0m\u001b[0;34m\u001b[0m\u001b[0m\n\u001b[0m\u001b[1;32m     13\u001b[0m                     \u001b[0mprint\u001b[0m\u001b[0;34m(\u001b[0m\u001b[0;34m'delete '\u001b[0m\u001b[0;34m,\u001b[0m \u001b[0mstr2\u001b[0m\u001b[0;34m[\u001b[0m\u001b[0mj\u001b[0m\u001b[0;34m]\u001b[0m\u001b[0;34m)\u001b[0m\u001b[0;34m\u001b[0m\u001b[0m\n\u001b[1;32m     14\u001b[0m                     \u001b[0mi\u001b[0m \u001b[0;34m+=\u001b[0m \u001b[0;36m1\u001b[0m\u001b[0;34m\u001b[0m\u001b[0m\n",
      "\u001b[0;31mIndexError\u001b[0m: string index out of range"
     ]
    }
   ],
   "source": [
    "def deletion_distance(str1, str2):\n",
    "    count = 0\n",
    "    i = 0\n",
    "    j = 0\n",
    "    while i < len(str1) and j < len(str2):\n",
    "        if str2[j] in str1:\n",
    "            print('found')\n",
    "            if str1[0] == str2[i]:\n",
    "                i += 1\n",
    "                print(str1)\n",
    "            else:\n",
    "                while str1[i] != str2[j]:\n",
    "                    print('delete ', str2[j])\n",
    "                    i += 1\n",
    "                    count += 1\n",
    "        j += 1\n",
    "    return count         \n",
    "\n",
    "deletion_distance('dog', 'frog')"
   ]
  },
  {
   "cell_type": "markdown",
   "metadata": {},
   "source": [
    "#### Fibonacci with DP"
   ]
  },
  {
   "cell_type": "code",
   "execution_count": 28,
   "metadata": {
    "collapsed": false
   },
   "outputs": [
    {
     "name": "stdout",
     "output_type": "stream",
     "text": [
      "{1: 1}\n",
      "{1: 1, 0: 0}\n",
      "{1: 1, 0: 0, 2: 1}\n",
      "{1: 1, 0: 0, 2: 1}\n",
      "{1: 1, 0: 0, 2: 1, 3: 2}\n",
      "{1: 1, 0: 0, 2: 1, 3: 2}\n",
      "{1: 1, 0: 0, 2: 1, 3: 2, 4: 3}\n",
      "{1: 1, 0: 0, 2: 1, 3: 2, 4: 3}\n",
      "{1: 1, 0: 0, 2: 1, 3: 2, 4: 3, 5: 5}\n",
      "{1: 1, 0: 0, 2: 1, 3: 2, 4: 3, 5: 5}\n",
      "{1: 1, 0: 0, 2: 1, 3: 2, 4: 3, 5: 5, 6: 8}\n",
      "8\n"
     ]
    }
   ],
   "source": [
    "def fib(n , memo = {}):\n",
    "    f = 0\n",
    "    if n < 2:\n",
    "        memo[n] = n\n",
    "        f = n\n",
    "    else:\n",
    "        if n in memo:\n",
    "            f = memo[n]\n",
    "        else:\n",
    "            f = fib(n - 1, memo) + fib(n - 2, memo)\n",
    "            memo[n] =  f\n",
    "    print(memo)\n",
    "    return f     \n",
    "\n",
    "print(fib(6))"
   ]
  },
  {
   "cell_type": "markdown",
   "metadata": {},
   "source": [
    "#### Given a string return the fist recuring char"
   ]
  },
  {
   "cell_type": "code",
   "execution_count": 41,
   "metadata": {
    "collapsed": false
   },
   "outputs": [
    {
     "name": "stdout",
     "output_type": "stream",
     "text": [
      "None\n"
     ]
    }
   ],
   "source": [
    "# \"ABCA\" = A\n",
    "# \"ABBA\" = B\n",
    "# I can use a Dictionary ( Hash Map)\n",
    "# O(n)\n",
    "\n",
    "def getFirstDuplicate(s):\n",
    "    m = {}\n",
    "    for i in range(len(s)):\n",
    "        if s[i] in m:\n",
    "            return s[i]\n",
    "        m[s[i]] = True\n",
    "    return None\n",
    "\n",
    "print(getFirstDuplicate(\"ABCD\"))\n",
    "    "
   ]
  },
  {
   "cell_type": "markdown",
   "metadata": {},
   "source": [
    "#### Given an array of integers, find the number of combinations where the total is 16"
   ]
  },
  {
   "cell_type": "code",
   "execution_count": 57,
   "metadata": {
    "collapsed": false
   },
   "outputs": [
    {
     "name": "stdout",
     "output_type": "stream",
     "text": [
      "[0, 0, 0, 0, 0, 0, 0, 0, 0, 0, 0, 0, 0, 0, 0, 0, 0]\n",
      "[1, 0, 1, 0, 0, 0, 0, 0, 0, 0, 0, 0, 0, 0, 0, 0, 0]\n",
      "[1, 0, 1, 0, 1, 0, 1, 0, 0, 0, 1, 0, 0, 0, 1, 0, 0]\n",
      "[1, 0, 1, 0, 1, 0, 2, 0, 1, 0, 2, 0, 0, 0, 2, 0, 2]\n",
      "[1, 0, 1, 0, 1, 0, 2, 0, 1, 0, 3, 0, 1, 0, 3, 0, 4]\n",
      "[1, 0, 1, 0, 1, 0, 2, 0, 1, 0, 3, 0, 1, 0, 3, 0, 4]\n",
      "4\n"
     ]
    }
   ],
   "source": [
    "# [2,4,6,10] =  2\n",
    "\n",
    "# [ 2,4,6,10, 16] = 3\n",
    "\n",
    "def findNumber(arr, n):\n",
    "    memo = [0] * (n + 1)\n",
    "    print(memo)\n",
    "    \n",
    "    memo[0] = 1\n",
    "    \n",
    "    for num in arr:\n",
    "        i = num\n",
    "        while i <= n:\n",
    "            if (i - num) != num:\n",
    "                memo[i] += memo[i - num] \n",
    "            i += 1\n",
    "        print(memo)\n",
    "    print(memo)\n",
    "    return memo[n]\n",
    "        \n",
    "print(findNumber([2,4,6,10], 16) )       "
   ]
  },
  {
   "cell_type": "code",
   "execution_count": 29,
   "metadata": {
    "collapsed": false
   },
   "outputs": [
    {
     "name": "stdout",
     "output_type": "stream",
     "text": [
      "6\n",
      "8\n",
      "11\n",
      "17\n"
     ]
    }
   ],
   "source": [
    "\n",
    "\n",
    "# Given a binary search tree built with the Node class\n",
    "# Convert it to a doubly linked list in sorted order\n",
    "# Must return the same nodes given\n",
    "\n",
    "# In Order traversal \n",
    "#  keep building my linked list\n",
    "# recursive IOT \n",
    "# Time O(n)\n",
    "\n",
    "     \n",
    "        \n",
    "# Head: left = NOne\n",
    "# Right = None\n",
    "\n",
    "class Node(object):\n",
    "    def __init__(self, value):\n",
    "        self.value = value\n",
    "        self.left = None # previous\n",
    "        self.right = None\n",
    "\n",
    "class BST(object):\n",
    "    def __init__(self, head):\n",
    "        self.head = head\n",
    "    \n",
    "    def InOrderTraversal_List(self, root = None, listA = None):\n",
    "        if root == None: # Base case\n",
    "            return listA\n",
    "        left = root.left\n",
    "        right = root.right\n",
    "        listA = self.InOrderTraversal_List(left, listA) # left add to the list\n",
    "        # add the root\n",
    "        listA.addElement(root)\n",
    "        listA = self.InOrderTraversal_List(right, listA)\n",
    "        return listA  \n",
    "\n",
    "class D_LinkedList(object):\n",
    "    def __init__(self, head):\n",
    "        self.head = head\n",
    "    \n",
    "    def addElement(self, new_element): # add a new node to the tail\n",
    "        if self.head == None:\n",
    "            self.head = new_element\n",
    "            self.head.left = None\n",
    "            self.head.right = None\n",
    "            return \n",
    "        \n",
    "        curr = self.head\n",
    "        while curr.right != None:\n",
    "            curr = curr.right\n",
    "        curr.right = new_element\n",
    "        new_element.left =  curr\n",
    "        new_element.right = None\n",
    "        return \n",
    "    \n",
    "\n",
    "tree = BST(Node(11))\n",
    "six = Node(6)\n",
    "six.right = Node(8)\n",
    "tree.head.left = six\n",
    "seventeen = Node(17)\n",
    "tree.head.right = seventeen\n",
    "\n",
    "ListA = D_LinkedList(None)\n",
    "listA = tree.InOrderTraversal_List(tree.head, ListA)\n",
    "curr = listA.head\n",
    "while(curr != None):\n",
    "    print(curr.value)\n",
    "    curr = curr.right"
   ]
  },
  {
   "cell_type": "markdown",
   "metadata": {
    "collapsed": true
   },
   "source": [
    "Given a string, find the length of the longest substring without repeating characters.\n",
    "\n",
    "Examples:\n",
    "\n",
    "Given \"abcabcbb\", the answer is \"abc\", which the length is 3.\n",
    "\n",
    "Given \"bbbbb\", the answer is \"b\", with the length of 1.\n",
    "\n",
    "Given \"pwwkew\", the answer is \"wke\", with the length of 3. Note that the answer must be a substring, \"pwke\" is a subsequence and not a substring."
   ]
  },
  {
   "cell_type": "code",
   "execution_count": 11,
   "metadata": {
    "collapsed": false
   },
   "outputs": [
    {
     "name": "stdout",
     "output_type": "stream",
     "text": [
      "0\n",
      "2\n",
      "{'p': 0, 'w': 1}\n",
      "2\n",
      "3\n",
      "{'p': 0, 'w': 2}\n",
      "2\n",
      "4\n",
      "{'p': 0, 'w': 2, 'k': 3}\n",
      "2\n",
      "5\n",
      "{'p': 0, 'w': 2, 'k': 3, 'e': 4}\n",
      "3\n",
      "6\n",
      "{'p': 0, 'k': 3, 'e': 4, 'w': 5}\n"
     ]
    },
    {
     "data": {
      "text/plain": [
       "4"
      ]
     },
     "execution_count": 11,
     "metadata": {},
     "output_type": "execute_result"
    }
   ],
   "source": [
    "def lengthOfLongestSubstring( s):\n",
    "        \"\"\"\n",
    "        :type s: str\n",
    "        :rtype: int\n",
    "        \"\"\"\n",
    "        # abcabcbb\n",
    "        if s == \"\":\n",
    "            return 0\n",
    "        \n",
    "        memo = {}\n",
    "        memo[s[0]] =  0\n",
    "        length = 1\n",
    "        start = 0\n",
    "        end = 1\n",
    "        count = 1\n",
    "        rs = s[0]\n",
    "        \n",
    "        while end < len(s):\n",
    "            if not s[end] in memo:\n",
    "                memo[s[end]] = end\n",
    "                count += 1\n",
    "                end += 1\n",
    "            else:\n",
    "                if length < (end - start):\n",
    "                    length = end - start \n",
    "                    rs = s[start:end]\n",
    "                start = memo[s[end]] + 1\n",
    "                memo.pop(s[end]) \n",
    "                memo[s[end]] = end \n",
    "                count = 1 \n",
    "                \n",
    "                end += 1\n",
    "            print(start)\n",
    "            print(end)\n",
    "            print(memo)\n",
    "        return len(memo)\n",
    "    \n",
    "lengthOfLongestSubstring('pwwkew')"
   ]
  },
  {
   "cell_type": "code",
   "execution_count": 39,
   "metadata": {
    "collapsed": false
   },
   "outputs": [],
   "source": [
    "def lengthOfLongestSubstring( s):\n",
    "    prePos, last, ans = {}, -1, 0  \n",
    "    for idx, c in enumerate(s):\n",
    "        last = max(prePos.get(c, -1), last)\n",
    "        print(last)\n",
    "        ans = max(ans, idx - last)\n",
    "        print(ans)\n",
    "        prePos[c] = idx\n",
    "        print(prePos)\n",
    "    return ans"
   ]
  },
  {
   "cell_type": "code",
   "execution_count": 40,
   "metadata": {
    "collapsed": false
   },
   "outputs": [
    {
     "name": "stdout",
     "output_type": "stream",
     "text": [
      "-1\n",
      "1\n",
      "{'p': 0}\n",
      "-1\n",
      "2\n",
      "{'p': 0, 'w': 1}\n",
      "1\n",
      "2\n",
      "{'p': 0, 'w': 2}\n",
      "1\n",
      "2\n",
      "{'p': 0, 'w': 2, 'k': 3}\n",
      "1\n",
      "3\n",
      "{'p': 0, 'w': 2, 'k': 3, 'e': 4}\n",
      "2\n",
      "3\n",
      "{'p': 0, 'w': 5, 'k': 3, 'e': 4}\n"
     ]
    },
    {
     "data": {
      "text/plain": [
       "3"
      ]
     },
     "execution_count": 40,
     "metadata": {},
     "output_type": "execute_result"
    }
   ],
   "source": [
    "lengthOfLongestSubstring('pwwkew')"
   ]
  },
  {
   "cell_type": "markdown",
   "metadata": {},
   "source": [
    "Reverse a sentense"
   ]
  },
  {
   "cell_type": "code",
   "execution_count": 43,
   "metadata": {
    "collapsed": false
   },
   "outputs": [
    {
     "name": "stdout",
     "output_type": "stream",
     "text": [
      "my testing \n",
      "code my testing \n"
     ]
    }
   ],
   "source": [
    "def reverse(s):\n",
    "    \n",
    "\n",
    "print(reverse(\"testing my code\"))"
   ]
  },
  {
   "cell_type": "markdown",
   "metadata": {
    "collapsed": true
   },
   "source": [
    "#### firstDuplicate\n",
    "Given an array a that contains only numbers in the range from 1 to a.length, find the first duplicate number for which the second occurrence has the minimal index. In other words, if there are more than 1 duplicated numbers, return the number for which the second occurrence has a smaller index than the second occurrence of the other number does. If there are no such elements, return -1."
   ]
  },
  {
   "cell_type": "code",
   "execution_count": 2,
   "metadata": {
    "collapsed": false
   },
   "outputs": [
    {
     "name": "stdout",
     "output_type": "stream",
     "text": [
      "[3, 4, -1, 5, 5, 3]\n",
      "[3, 4, -1, -5, 5, 3]\n",
      "[-3, 4, -1, -5, 5, 3]\n",
      "[-3, 4, -1, -5, -5, 3]\n",
      "5\n"
     ]
    }
   ],
   "source": [
    "def firstDuplicate(a):\n",
    "    for i in a:\n",
    "        posi = abs(i) - 1\n",
    "        if (a[posi] < 0):\n",
    "            return posi + 1\n",
    "        a[posi] = a[posi] * -1\n",
    "        print(a)\n",
    "    return -1\n",
    "\n",
    "print(firstDuplicate([3,4,1,5,5,3]))"
   ]
  },
  {
   "cell_type": "markdown",
   "metadata": {},
   "source": [
    "#### Zigzag\n",
    "A sequence of integers is called a zigzag sequence if each of its elements is either strictly less than all its neighbors or strictly greater than all its neighbors. For example, the sequence 4 2 3 1 5 3 is a zigzag, but 7 3 5 5 2 and 3 8 6 4 5 aren't. Sequence of length 1 is also a zigzag."
   ]
  },
  {
   "cell_type": "code",
   "execution_count": 11,
   "metadata": {
    "collapsed": false
   },
   "outputs": [
    {
     "name": "stdout",
     "output_type": "stream",
     "text": [
      "True\n"
     ]
    }
   ],
   "source": [
    "def isZigzag(a):\n",
    "    if a and len(a) <= 1:\n",
    "        return False\n",
    "    if a[0] == a[1]:\n",
    "        return False\n",
    "    prev = 0\n",
    "    \n",
    "    for curr in range(1, len(a) - 1):\n",
    "        if (a[curr] > a[prev] and a[curr] < a[curr + 1]) or (a[curr] < a[prev] and a[curr] > a[curr + 1]):\n",
    "            return False\n",
    "        prev += 1\n",
    "    return True\n",
    "\n",
    "print(isZigzag([1,2,1,3,2,5]))"
   ]
  },
  {
   "cell_type": "markdown",
   "metadata": {},
   "source": [
    "A sequence of integers is called a zigzag sequence if each of its elements is either strictly less than all its neighbors or strictly greater than all its neighbors. For example, the sequence 4 2 3 1 5 3 is a zigzag, but 7 3 5 5 2 and 3 8 6 4 5 aren't. Sequence of length 1 is also a zigzag. return the longest sub array of zigzag"
   ]
  },
  {
   "cell_type": "code",
   "execution_count": 1,
   "metadata": {
    "collapsed": true
   },
   "outputs": [],
   "source": [
    "def zigzag1(a):\n",
    "    if len(a) == 1:\n",
    "        return 1\n",
    "    \n",
    "    \n",
    "    start = 0\n",
    "    curr = start\n",
    "    end = 1\n",
    "    prev = -1\n",
    "    count = end - start + 1\n",
    "    while end < len(a):\n",
    "        if (a[curr] > a[prev] and a[curr] < a[end]) or (a[curr] < a[prev] and a[curr] > a[end]):\n",
    "            start = end\n",
    "            prev = start - 1\n",
    "        curr += 1\n",
    "        prev += 1\n",
    "        end += 1\n",
    "        \n",
    "def zigzag(a):        \n",
    "    if len(a) <= 1:\n",
    "        return len(a)\n",
    "    ret = 0\n",
    "    curr = 'U'\n",
    "    nex = 'D'\n",
    "    if a[0] < a[1]:\n",
    "        curr = 'D'\n",
    "        nex = 'U'\n",
    "    \n",
    "    "
   ]
  },
  {
   "cell_type": "markdown",
   "metadata": {},
   "source": [
    "    Itertool test"
   ]
  },
  {
   "cell_type": "code",
   "execution_count": 11,
   "metadata": {
    "collapsed": false
   },
   "outputs": [
    {
     "name": "stdout",
     "output_type": "stream",
     "text": [
      "1\n"
     ]
    }
   ],
   "source": [
    "import itertools\n",
    "def expressiveWords( S, words):\n",
    "        \"\"\"\n",
    "        :type S: str\n",
    "        :type words: List[str]\n",
    "        :rtype: int\n",
    "        \"\"\"\n",
    "        def getKeyValues(s):\n",
    "            k = itertools.groupby(s)\n",
    "            values = []\n",
    "            key = ''\n",
    "            for a,b in k:\n",
    "                key += a\n",
    "                values.append(len(list(b)))\n",
    "            return key, values\n",
    "        \n",
    "        R, V = getKeyValues(S)\n",
    "        count = 0\n",
    "        for word in words:\n",
    "            r, v = getKeyValues(word)\n",
    "            if R == r:\n",
    "                count += all(c1 >= max(c2, 3) or c1 == c2 for c1, c2 in zip(V, v))\n",
    "        \n",
    "        return count\n",
    "\n",
    "print(expressiveWords('heeellooo', [\"hello\", \"hi\", \"helo\"]))"
   ]
  },
  {
   "cell_type": "raw",
   "metadata": {},
   "source": [
    "buy and sell\n",
    "\n",
    "given a list of future stock prices, find the buy and sell points with the max profit"
   ]
  },
  {
   "cell_type": "code",
   "execution_count": 22,
   "metadata": {
    "collapsed": true
   },
   "outputs": [],
   "source": [
    "def buyAndSell(a):\n",
    "    low = a[0]\n",
    "    buy = 0\n",
    "    sell = 0\n",
    "    ret = {}\n",
    "    i = 1\n",
    "    while i < len(a):\n",
    "        if a[i] <= low:\n",
    "            low = a[i]\n",
    "            buy = i\n",
    "            i += 1\n",
    "        else:\n",
    "            high = a[i]\n",
    "            i += 1\n",
    "            while i < len(a) and a[i] > high:\n",
    "                high = a[i]\n",
    "                i += 1\n",
    "            sell = i - 1\n",
    "            \n",
    "            ret[buy] = 'b'\n",
    "            ret[sell] = 's'\n",
    "            buy = i\n",
    "            sell = i\n",
    "            \n",
    "    return ret\n",
    "            "
   ]
  },
  {
   "cell_type": "code",
   "execution_count": 23,
   "metadata": {
    "collapsed": false
   },
   "outputs": [
    {
     "data": {
      "text/plain": [
       "{}"
      ]
     },
     "execution_count": 23,
     "metadata": {},
     "output_type": "execute_result"
    }
   ],
   "source": [
    "buyAndSell([300,300,300,300,300,300])"
   ]
  },
  {
   "cell_type": "code",
   "execution_count": 24,
   "metadata": {
    "collapsed": false
   },
   "outputs": [
    {
     "data": {
      "text/plain": [
       "{0: 'b', 3: 's', 4: 'b', 5: 's'}"
      ]
     },
     "execution_count": 24,
     "metadata": {},
     "output_type": "execute_result"
    }
   ],
   "source": [
    "buyAndSell([0,300,400,800,100,2000])"
   ]
  },
  {
   "cell_type": "markdown",
   "metadata": {
    "collapsed": true
   },
   "source": [
    "pair with k diff"
   ]
  },
  {
   "cell_type": "code",
   "execution_count": 11,
   "metadata": {
    "collapsed": false
   },
   "outputs": [
    {
     "name": "stdout",
     "output_type": "stream",
     "text": [
      "2\n",
      "5\n"
     ]
    }
   ],
   "source": [
    "def pairKDiff(numbers, k):\n",
    "    m = {}\n",
    "    count = 0\n",
    "    for num in numbers:\n",
    "        m[num] = True\n",
    "    \n",
    "    for num in numbers:\n",
    "        if m[num]:\n",
    "            if num + k in m and m[num + k] and m[num]:\n",
    "                count += 1\n",
    "            if num - k in m and m[num - k]:\n",
    "                count += 1\n",
    "            m[num] = False\n",
    "    return count\n",
    "\n",
    "print(pairKDiff([1,1,2,2,3,3], 1))\n",
    "\n",
    "print(pairKDiff([1,2,3,4,5,6], 1))\n",
    "        "
   ]
  },
  {
   "cell_type": "markdown",
   "metadata": {
    "collapsed": true
   },
   "source": [
    "given 2 arrays ( sorted and distinct) find the # of elements that are equal"
   ]
  },
  {
   "cell_type": "code",
   "execution_count": 3,
   "metadata": {
    "collapsed": false
   },
   "outputs": [
    {
     "name": "stdout",
     "output_type": "stream",
     "text": [
      "True\n",
      "True\n",
      "True\n",
      "True\n"
     ]
    }
   ],
   "source": [
    "# a1 = 1,2,4,6,8,15\n",
    "# a2 = 2,5,7,8,9,11,16,17\n",
    "\n",
    "def findQuals(a1, a2):\n",
    "    a, b = 0, 0\n",
    "    count = 0\n",
    "    \n",
    "    while a < len(a1) and b < len(a2):\n",
    "        if a1[a] == a2[b]:\n",
    "            count += 1\n",
    "            a += 1\n",
    "            b +=1\n",
    "        else:\n",
    "            if a1[a] > a2[b]:\n",
    "                b += 1\n",
    "            else:\n",
    "                a += 1\n",
    "    return count\n",
    "\n",
    "    \n",
    "print(findQuals([1,2,4,6,8,15], [2,5,7,8,9,11,16,17]) == 2)\n",
    "print(findQuals([1,2,4], [5,6,7,8]) == 0)\n",
    "print(findQuals([], [2,5,7,8,9,11,16,17]) == 0)\n",
    "print(findQuals([], []) == 0)"
   ]
  },
  {
   "cell_type": "markdown",
   "metadata": {},
   "source": [
    "given 2 arrays (distinct) find the # of elements that are equal. Same as above but not sorted this time."
   ]
  },
  {
   "cell_type": "code",
   "execution_count": 4,
   "metadata": {
    "collapsed": false
   },
   "outputs": [
    {
     "name": "stdout",
     "output_type": "stream",
     "text": [
      "True\n",
      "True\n",
      "True\n",
      "True\n"
     ]
    }
   ],
   "source": [
    "def findEqualsUnsorted(a1, a2):\n",
    "    count = 0\n",
    "    s = set(a1)\n",
    "    for i in a2:\n",
    "        if i in s:\n",
    "            count += 1\n",
    "    return count\n",
    "\n",
    "print(findQuals([2,1,4,8,6,15], [2,5,7,8,9,11,16,17]) == 2)\n",
    "print(findQuals([1,4,2], [5,6,7,8]) == 0)\n",
    "print(findQuals([], [2,5,7,8,9,11,16,17]) == 0)\n",
    "print(findQuals([], []) == 0)"
   ]
  },
  {
   "cell_type": "markdown",
   "metadata": {},
   "source": [
    "Given a text txt[0..n-1] and a pattern pat[0..m-1], write a function search(char pat[], char txt[]) that prints all occurrences of pat[] and its permutations (or anagrams) in txt[]. You may assume that n > m. \n",
    "Expected time complexity is O(n)"
   ]
  },
  {
   "cell_type": "code",
   "execution_count": 17,
   "metadata": {
    "collapsed": false
   },
   "outputs": [
    {
     "name": "stdout",
     "output_type": "stream",
     "text": [
      "3\n",
      "10\n",
      "True\n",
      "True\n"
     ]
    }
   ],
   "source": [
    "# Use a variation of Rabin Karp Algorythm\n",
    "MAX = 256\n",
    "def compare(apat, atext):\n",
    "    for i in range(MAX):\n",
    "        if apat[i] != atext[i]:\n",
    "            return False\n",
    "    return True\n",
    "\n",
    "def search(text, pattern):\n",
    "    #256 ASCII chars so our arrays will be that long\n",
    "    \n",
    "    M = len(pattern)\n",
    "    N = len(text)\n",
    "    count = 0\n",
    "    # define 2 arrays to keep track of number of chars\n",
    "    apat = []\n",
    "    atext = []\n",
    "    \n",
    "    for i in range(MAX):\n",
    "        apat.append(0)\n",
    "        atext.append(0)\n",
    "    \n",
    "    for i in range(M):\n",
    "        apat[ord(pattern[i])] += 1\n",
    "        atext[ord(text[i])] += 1\n",
    "    \n",
    "    if compare(apat, atext):\n",
    "        count += 1\n",
    "        \n",
    "    for i in range(M, N):\n",
    "        atext[ord(text[i])] += 1\n",
    "        atext[ord(text[i - M])] -= 1\n",
    "        \n",
    "        if compare(apat, atext):\n",
    "            count += 1\n",
    "    \n",
    "    return count\n",
    "\n",
    "print(search('aabbababbababba', 'ab' ) == 10)\n",
    "print(search('BACDGABCDA', 'ABCD' ) == 3)"
   ]
  },
  {
   "cell_type": "markdown",
   "metadata": {
    "collapsed": true
   },
   "source": [
    "All permutations of a given array\n",
    "\n",
    "ex: [1,2,3] = [[1,2,3],\n",
    "               [1,3,2],\n",
    "               [2,1,3],\n",
    "               [2,3,1],...]"
   ]
  },
  {
   "cell_type": "code",
   "execution_count": 2,
   "metadata": {
    "collapsed": false
   },
   "outputs": [
    {
     "name": "stdout",
     "output_type": "stream",
     "text": [
      "[[1, 2, 3], [1, 3, 2], [2, 1, 3], [2, 3, 1], [3, 2, 1], [3, 1, 2]]\n"
     ]
    }
   ],
   "source": [
    "def allPermutations(a):\n",
    "    #call the recursive function\n",
    "    results = []\n",
    "    permutations(a, 0, results)\n",
    "    print(results)\n",
    "    \n",
    "def permutations(a, start, results):\n",
    "    # Base case\n",
    "    # If we reach the end of the list, we are done.\n",
    "    # Add to the list\n",
    "    if start >= len(a):\n",
    "        results.append(a.copy())\n",
    "    else:\n",
    "        for i in range(start, len(a)):\n",
    "            swap(a, start, i)\n",
    "            permutations(a, start + 1, results)\n",
    "            swap(a, start, i)\n",
    "    \n",
    "    \n",
    "def swap(a, i, j):\n",
    "    temp = a[i]\n",
    "    a[i] = a[j]\n",
    "    a[j] = temp\n",
    "\n",
    "\n",
    "allPermutations([1,2,3])\n"
   ]
  },
  {
   "cell_type": "markdown",
   "metadata": {
    "collapsed": true
   },
   "source": [
    "Find the longest common substring \n",
    "\n",
    "ex:\n",
    "\n",
    "ABAB, BABA = ABA or BAB also possible"
   ]
  },
  {
   "cell_type": "code",
   "execution_count": null,
   "metadata": {
    "collapsed": true
   },
   "outputs": [],
   "source": []
  }
 ],
 "metadata": {
  "kernelspec": {
   "display_name": "Python 3",
   "language": "python",
   "name": "python3"
  },
  "language_info": {
   "codemirror_mode": {
    "name": "ipython",
    "version": 3
   },
   "file_extension": ".py",
   "mimetype": "text/x-python",
   "name": "python",
   "nbconvert_exporter": "python",
   "pygments_lexer": "ipython3",
   "version": "3.6.0"
  }
 },
 "nbformat": 4,
 "nbformat_minor": 2
}
